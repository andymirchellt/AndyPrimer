{
  "nbformat": 4,
  "nbformat_minor": 0,
  "metadata": {
    "colab": {
      "name": "Prac_1_pb.ipynb",
      "provenance": [],
      "include_colab_link": true
    },
    "kernelspec": {
      "name": "python3",
      "display_name": "Python 3"
    },
    "language_info": {
      "name": "python"
    }
  },
  "cells": [
    {
      "cell_type": "markdown",
      "metadata": {
        "id": "view-in-github",
        "colab_type": "text"
      },
      "source": [
        "<a href=\"https://colab.research.google.com/github/andymirchellt/AndyPrimer/blob/main/Prac_1_pb.ipynb\" target=\"_parent\"><img src=\"https://colab.research.google.com/assets/colab-badge.svg\" alt=\"Open In Colab\"/></a>"
      ]
    },
    {
      "cell_type": "code",
      "execution_count": null,
      "metadata": {
        "id": "FtUsdCMOIMeL"
      },
      "outputs": [],
      "source": [
        "# Importar Blibliotecas\n",
        "import numpy as np \n",
        "import scipy.signal as sps \n",
        "import matplotlib.pyplot as plt\n",
        "import pandas as pd "
      ]
    },
    {
      "cell_type": "code",
      "source": [
        "def aproximacion_Butterworth(Ap,Ar,fp,fr):\n",
        "  N= int(np.ceil((np.log10((10**(Ap/10)-1)/(10**(Ar/10)-1)))/(2*np.log10(fp/fr))))\n",
        "  fc=fp/(10**(Ap/10)-1)**(1/(2*N))\n",
        "  return N,fc\n"
      ],
      "metadata": {
        "id": "k7xHuM0-JFIE"
      },
      "execution_count": null,
      "outputs": []
    },
    {
      "cell_type": "code",
      "source": [
        "Ap=0.1\n",
        "Ar=60\n",
        "fp=100\n",
        "fr=10000\n",
        "N,fc=aproximacion_Butterworth(Ap,Ar,fp,fr)"
      ],
      "metadata": {
        "id": "nOjfdAiTMR9S"
      },
      "execution_count": null,
      "outputs": []
    },
    {
      "cell_type": "code",
      "source": [
        "N"
      ],
      "metadata": {
        "colab": {
          "base_uri": "https://localhost:8080/"
        },
        "id": "NAtwErRQPfdn",
        "outputId": "198f19e9-bfbd-4b99-a329-319fa3d60689"
      },
      "execution_count": null,
      "outputs": [
        {
          "output_type": "execute_result",
          "data": {
            "text/plain": [
              "2"
            ]
          },
          "metadata": {},
          "execution_count": 29
        }
      ]
    },
    {
      "cell_type": "code",
      "source": [
        "def Butterworth_Pasabajas(N,fc):\n",
        "  p = np.array([np.exp(1j*(2*k-1)*np.pi/(2*N))*(np.exp(-1j*np.pi/2)) for k in range(1,2*N+1)])\n",
        "  p=np.array([2*np.pi*fc*pi for pi in p if pi.real <=0])\n",
        "  a=np.poly(p).real\n",
        "  b=np.array([(2*np.pi*fc)**N])\n",
        "\n",
        "  inx= np.argsort(p.real)\n",
        "  p=p[inx]\n",
        "  s=[]\n",
        "  if N%2 !=0:\n",
        "    bi=np.array([-p(0).real])\n",
        "    ai=np.array([1, -p[0].real])\n",
        "    s.append([bi,ai])\n",
        "    p = p[1:]\n",
        "  for i in range(0, p.shape[0], 2):\n",
        "    ai=np.poly(p[i:i+2]).real      \n",
        "    bi=np.array([ai[2]])\n",
        "    s.append([bi,ai])\n",
        "\n",
        "  return b,a,s"
      ],
      "metadata": {
        "id": "ONTQgPv5N1Z0"
      },
      "execution_count": null,
      "outputs": []
    },
    {
      "cell_type": "code",
      "source": [
        "b,a,s = Butterworth_Pasabajas(N,fc)\n",
        "#plt.plot(p.real,p.imag,marker='x',linestyle='')\n",
        "#phi=np.arange(0,1,0.01)*2*np.pi\n",
        "#plt.plot(np.cos(phi), np.sin(phi), linestyle=':')\n",
        "#plt.axis('square');\n",
        "print (s)"
      ],
      "metadata": {
        "colab": {
          "base_uri": "https://localhost:8080/"
        },
        "id": "qstHhePoOKzE",
        "outputId": "a42ba9f3-2ec0-4b90-ebf3-98a40012a66b"
      },
      "execution_count": null,
      "outputs": [
        {
          "output_type": "stream",
          "name": "stdout",
          "text": [
            "[[array([2586706.14821554]), array([1.00000000e+00, 2.27451364e+03, 2.58670615e+06])]]\n"
          ]
        }
      ]
    },
    {
      "cell_type": "code",
      "source": [
        "W,H=sps.freqs(b,a)\n",
        "f=W/(2*np.pi)\n",
        "plt.semilogx(f, 20*np.log10(np.abs(H)));\n",
        "plt.axhline(-Ap, color='gray', linestyle='--')\n",
        "plt.axhline(-Ar, color='gray', linestyle='--')\n",
        "plt.axhline(0, color='black', linestyle='--')\n",
        "plt.axhline(-3, color='black', linestyle='--')\n",
        "plt.axvline(fp, color='pink', linestyle='--')\n",
        "plt.axvline(fr, color='pink', linestyle='--')\n",
        "plt.axvline(fc, color='black', linestyle='--');\n",
        "\n",
        "for [bi,ai] in s:\n",
        "  _,H=sps.freqs(bi,ai,W)\n",
        "  plt.semilogx(f, 20*np.log10(np.abs(H)));"
      ],
      "metadata": {
        "colab": {
          "base_uri": "https://localhost:8080/",
          "height": 269
        },
        "id": "KWwHPXLCVaaA",
        "outputId": "93f8506a-41be-432f-cfe7-cc8167f46764"
      },
      "execution_count": null,
      "outputs": [
        {
          "output_type": "display_data",
          "data": {
            "text/plain": [
              "<Figure size 432x288 with 1 Axes>"
            ],
            "image/png": "[encoded data removed]"
          },
          "metadata": {
            "needs_background": "light"
          }
        }
      ]
    },
    {
      "cell_type": "code",
      "source": [
        "def secciones_sallen_key(s,C=1e-6):\n",
        "  sk=[]\n",
        "  for i , [bi,ai] in enumerate(s):\n",
        "    if ai.shape[0]==2:\n",
        "      R=1/(ai[1]*C)\n",
        "      sk.append([R/1e3, R/1e3, C/1e-6])\n",
        "    else:\n",
        "      m= (ai[1]**2)/(4*ai[2])\n",
        "      R1= ai[1]/(2*m*ai[2]*C)\n",
        "      R2= ai[1]/(m*ai[2]*C)-R1\n",
        "      sk.append([R1/1e3,R2/1e3,C/1e-6,m*C/1e-6])\n",
        "  return sk"
      ],
      "metadata": {
        "id": "iBzVBaifRc3B"
      },
      "execution_count": null,
      "outputs": []
    },
    {
      "cell_type": "code",
      "source": [
        "sk = secciones_sallen_key(s) "
      ],
      "metadata": {
        "id": "S6gDEgb46TGa"
      },
      "execution_count": null,
      "outputs": []
    },
    {
      "cell_type": "code",
      "source": [
        "sk"
      ],
      "metadata": {
        "colab": {
          "base_uri": "https://localhost:8080/"
        },
        "id": "JuqFFKLk8GnA",
        "outputId": "14ce1a17-c907-4ba0-d9c2-cdba91d3c660"
      },
      "execution_count": null,
      "outputs": [
        {
          "output_type": "execute_result",
          "data": {
            "text/plain": [
              "[[0.8793088620074464, 0.8793088620074464, 1.0, 0.5000000000000002]]"
            ]
          },
          "metadata": {},
          "execution_count": 35
        }
      ]
    },
    {
      "cell_type": "code",
      "source": [
        ""
      ],
      "metadata": {
        "id": "59H-KSJr82EV"
      },
      "execution_count": null,
      "outputs": []
    }
  ]
}